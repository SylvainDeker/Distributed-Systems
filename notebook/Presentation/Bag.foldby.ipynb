{
 "cells": [
  {
   "cell_type": "code",
   "execution_count": 2,
   "metadata": {},
   "outputs": [
    {
     "data": {
      "text/plain": [
       "[(31,\n",
       "  (['Balma',\n",
       "    'Blagnac',\n",
       "    'Ramonville-Saint-Agne',\n",
       "    'Vieille-Toulouse',\n",
       "    \"L'Union\",\n",
       "    'Portet-sur-Garonne',\n",
       "    'Tournefeuille'],)),\n",
       " (92, (['Suresnes', 'Nanterre', 'La Garenne-Colombes'],)),\n",
       " (93, (['Bobigny', 'Montreuil'],))]"
      ]
     },
     "execution_count": 2,
     "metadata": {},
     "output_type": "execute_result"
    }
   ],
   "source": [
    "import dask.bag as db\n",
    "\n",
    "rdd = db.from_sequence([\n",
    "('Balma',31130),\n",
    "('Blagnac',31700),\n",
    "('Ramonville-Saint-Agne',31520),\n",
    "('Vieille-Toulouse',31320),\n",
    "('L\\'Union',31240),\n",
    "('Portet-sur-Garonne',31120),\n",
    "('Tournefeuille',31170),\n",
    "('Suresnes', 92150),\n",
    "('Nanterre', 92000),\n",
    "('La Garenne-Colombes', 92250),\n",
    "('Bobigny', 93000),\n",
    "('Montreuil', 93100)], npartitions=5)\n",
    "\n",
    "rdd = rdd.foldby(key=lambda e:int(e[1]/1000),\n",
    "                binop=lambda acc,b:(acc[0]+[ b[0] ],), initial=([],),\n",
    "                combine=lambda a,b:(a[0]+b[0],))\n",
    "rdd.compute()"
   ]
  }
 ],
 "metadata": {
  "kernelspec": {
   "display_name": "Python 3",
   "language": "python",
   "name": "python3"
  },
  "language_info": {
   "codemirror_mode": {
    "name": "ipython",
    "version": 3
   },
   "file_extension": ".py",
   "mimetype": "text/x-python",
   "name": "python",
   "nbconvert_exporter": "python",
   "pygments_lexer": "ipython3",
   "version": "3.7.5"
  }
 },
 "nbformat": 4,
 "nbformat_minor": 4
}
