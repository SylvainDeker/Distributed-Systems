{
 "cells": [
  {
   "cell_type": "code",
   "execution_count": 3,
   "metadata": {},
   "outputs": [
    {
     "data": {
      "text/plain": [
       "42"
      ]
     },
     "execution_count": 3,
     "metadata": {},
     "output_type": "execute_result"
    }
   ],
   "source": [
    "import dask.bag as db\n",
    "rdd = db.from_sequence(['0','1','2','3','4','5','6','7','8',\n",
    "                        '9','10','11','12'], npartitions=5)\n",
    "rdd = rdd.map(lambda e: int(e))       #[0,1,2,3,4,5,6,7,8,9,10,11,12]\n",
    "\n",
    "rdd = rdd.filter(lambda e:e%2==0)     #[0,2,4,6,8,10,12]\n",
    "\n",
    "rdd = rdd.fold(binop=lambda acc, e: acc+e, initial=0) #42\n",
    "\n",
    "rdd.compute()"
   ]
  }
 ],
 "metadata": {
  "kernelspec": {
   "display_name": "Python 3",
   "language": "python",
   "name": "python3"
  },
  "language_info": {
   "codemirror_mode": {
    "name": "ipython",
    "version": 3
   },
   "file_extension": ".py",
   "mimetype": "text/x-python",
   "name": "python",
   "nbconvert_exporter": "python",
   "pygments_lexer": "ipython3",
   "version": "3.7.5"
  }
 },
 "nbformat": 4,
 "nbformat_minor": 4
}
