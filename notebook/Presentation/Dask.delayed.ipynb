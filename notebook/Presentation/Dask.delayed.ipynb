{
 "cells": [
  {
   "cell_type": "code",
   "execution_count": 7,
   "metadata": {},
   "outputs": [
    {
     "data": {
      "text/plain": [
       "[0, 10, 20, 30, 40, 50, 60, 70, 80, 90]"
      ]
     },
     "execution_count": 7,
     "metadata": {},
     "output_type": "execute_result"
    }
   ],
   "source": [
    "from dask import delayed\n",
    "\n",
    "collection = [0,1,2,3,4,5,6,7,8,9]\n",
    "result = []\n",
    "for e in collection:\n",
    "    r = delayed(lambda e:e*10)(e)\n",
    "    result.append(r)\n",
    "result = delayed(lambda x:x)(result)\n",
    "result.visualize('graph1.png')\n",
    "result.compute()"
   ]
  },
  {
   "cell_type": "markdown",
   "metadata": {},
   "source": [
    "![Graph](graph1.png)"
   ]
  },
  {
   "cell_type": "code",
   "execution_count": 9,
   "metadata": {},
   "outputs": [
    {
     "data": {
      "text/plain": [
       "8"
      ]
     },
     "execution_count": 9,
     "metadata": {},
     "output_type": "execute_result"
    }
   ],
   "source": [
    "a = 1\n",
    "b = 1\n",
    "add = lambda a,b:a+b\n",
    "for _ in range(2):\n",
    "    a = delayed(add)(1,a)\n",
    "    b = delayed(add)(1,b)\n",
    "    a = delayed(add)(a,b)\n",
    "\n",
    "result = a\n",
    "result.visualize('graph2.png')\n",
    "result.compute()"
   ]
  },
  {
   "cell_type": "markdown",
   "metadata": {},
   "source": [
    "![Graph](graph2.png)"
   ]
  },
  {
   "cell_type": "code",
   "execution_count": 10,
   "metadata": {},
   "outputs": [
    {
     "data": {
      "text/plain": [
       "21"
      ]
     },
     "execution_count": 10,
     "metadata": {},
     "output_type": "execute_result"
    }
   ],
   "source": [
    "from dask import delayed, compute\n",
    "# https://distributed.dask.org/en/latest/task-launch.html\n",
    "\n",
    "@delayed\n",
    "def fib(n):\n",
    "    if n < 2:\n",
    "        return n\n",
    "    # We can use dask.delayed and dask.compute to launch\n",
    "    # computation from within tasks\n",
    "    a = fib(n - 1)  # these calls are delayed\n",
    "    b = fib(n - 2)\n",
    "    a, b = compute(a, b)  # execute both in parallel\n",
    "    return a + b\n",
    "\n",
    "f = fib(8)\n",
    "f.compute()"
   ]
  },
  {
   "cell_type": "code",
   "execution_count": null,
   "metadata": {},
   "outputs": [],
   "source": []
  }
 ],
 "metadata": {
  "kernelspec": {
   "display_name": "Python 3",
   "language": "python",
   "name": "python3"
  },
  "language_info": {
   "codemirror_mode": {
    "name": "ipython",
    "version": 3
   },
   "file_extension": ".py",
   "mimetype": "text/x-python",
   "name": "python",
   "nbconvert_exporter": "python",
   "pygments_lexer": "ipython3",
   "version": "3.7.5"
  }
 },
 "nbformat": 4,
 "nbformat_minor": 4
}
