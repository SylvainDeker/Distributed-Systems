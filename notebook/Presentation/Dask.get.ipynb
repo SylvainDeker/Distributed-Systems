{
 "cells": [
  {
   "cell_type": "code",
   "execution_count": 11,
   "metadata": {},
   "outputs": [
    {
     "data": {
      "text/plain": [
       "6"
      ]
     },
     "execution_count": 11,
     "metadata": {},
     "output_type": "execute_result"
    }
   ],
   "source": [
    "from dask.threaded import get\n",
    "from operator import add\n",
    "\n",
    "graph = {\n",
    " 'x': 1,\n",
    " 'y': 2,\n",
    " 'z': (add, 'x', 'y'),\n",
    " 'w': (sum, ['x', 'y', 'z']),\n",
    " 'v': [(sum, ['w', 'z']), 2]}\n",
    "\n",
    "get(graph,'w')"
   ]
  },
  {
   "cell_type": "code",
   "execution_count": null,
   "metadata": {},
   "outputs": [],
   "source": []
  }
 ],
 "metadata": {
  "kernelspec": {
   "display_name": "Python 3",
   "language": "python",
   "name": "python3"
  },
  "language_info": {
   "codemirror_mode": {
    "name": "ipython",
    "version": 3
   },
   "file_extension": ".py",
   "mimetype": "text/x-python",
   "name": "python",
   "nbconvert_exporter": "python",
   "pygments_lexer": "ipython3",
   "version": "3.7.5"
  }
 },
 "nbformat": 4,
 "nbformat_minor": 4
}
